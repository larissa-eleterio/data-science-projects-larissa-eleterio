{
  "nbformat": 4,
  "nbformat_minor": 0,
  "metadata": {
    "colab": {
      "name": "Aplicando análise de componetes principais na criação de um índice.ipynb",
      "provenance": [],
      "toc_visible": true,
      "authorship_tag": "ABX9TyP3dQ3+bClvJEPgVIJo8qfT",
      "include_colab_link": true
    },
    "kernelspec": {
      "name": "python3",
      "display_name": "Python 3"
    }
  },
  "cells": [
    {
      "cell_type": "markdown",
      "metadata": {
        "id": "view-in-github",
        "colab_type": "text"
      },
      "source": [
        "<a href=\"https://colab.research.google.com/github/larissa-eleterio/portfolio-larissa-eleterio/blob/master/Aplicando_an%C3%A1lise_de_componetes_principais_na_cria%C3%A7%C3%A3o_de_um_%C3%ADndice.ipynb\" target=\"_parent\"><img src=\"https://colab.research.google.com/assets/colab-badge.svg\" alt=\"Open In Colab\"/></a>"
      ]
    },
    {
      "cell_type": "markdown",
      "metadata": {
        "id": "ModjGFugaCsv",
        "colab_type": "text"
      },
      "source": [
        "## Aplicando análise de componentes principais para criação de um índice\n",
        "\n",
        "> Esse projeto de Data Science está relacionado ao notebook [*Analisando dados do Airbnb*](https://bit.ly/3d2iWrh) que publiquei anteriormente.\n",
        "Nesse notebook irei elaborar de um índice que pudesse rankear as locações de acordo com algum critério multivariado. Para esse fim vamos utilizar a análise de componentes principais.\n",
        "\n"
      ]
    },
    {
      "cell_type": "markdown",
      "metadata": {
        "id": "P15vT0CTfxBp",
        "colab_type": "text"
      },
      "source": [
        "Proposta por Karl Pearsons a análise de componentes principais procura explicar a estrutura de variâncias-convariâncias de um grupo de $p$  variáveis a partir de $p$ combinações lineares das mesmas. Seus objetivos gerais são a redução de dimensão dos dados e a busca por interpretabilidade.\n",
        "\n",
        "Apesar de serem necessárias $p$ componentes principais para reproduzir toda a variabilidade do conjunto, muita das vezes essa variabilidade pode ser bem representada por número menor de $k$ componentes principais. Desse modo teremos quase tanta informação a partir das $k$ componentes\n",
        "principais quanto teríamos se utilizássemos as $p$ componentes principais originais.\n",
        "A análise de componentes principais por vezes revela relações a princípio insuspeitas mas também interpretáveis que uma análise mais simplificada dos dados não mostraria.\n",
        "\n",
        "Para realizar a análise de componentes principais tomamos um vetor aleatório $X = (X1;...;Xp)'$ com matriz de variâncias e covariâncias $\\Sigma$. Extraímos então os autovalores $\\lambda_1;...; \\lambda_p$ e os autovetores $e_1,...,e_p$ desta mesma matriz $\\Sigma$. Após isso, teremos então a matriz ortogonal $P=(e_1,...,e_p)$ e o vetor $Y = P'X$ será o vetor com as componentes principais de $\\Sigma$.\n",
        "\n",
        "Uma outra alternativa a utilizaçãoao da matriz de variâncias e covariâncias $\\Sigma$ é a obtenção das componentes principais a partir da matriz de correlações $\\rho$. Os passos para obtenção das componentes a partir da matriz $\\rho$ são análogos. Em geral, as componentes principais obtidas a partir da matriz $\\Sigma$ são diferntes das obtidas a partir da matriz $\\rho$.\n",
        "\n",
        "Vale ressaltar que quando as variáveis são medidas em escalas diferentes é mais natural estimar as componentes\n",
        "principais a partir da matriz de correlações $\\rho$."
      ]
    },
    {
      "cell_type": "markdown",
      "metadata": {
        "id": "BPLmTk1hlZGc",
        "colab_type": "text"
      },
      "source": [
        "Como esse projeto de Data Science é a continuação do notebook publicado anteriormente, não estarão descritos aqui os passos de tratamento e limpeza dos dados, porém você pode encontrar o passo a passo no meu [github](https://bit.ly/3d2iWrh)"
      ]
    },
    {
      "cell_type": "markdown",
      "metadata": {
        "id": "TYTkWUdYnoA5",
        "colab_type": "text"
      },
      "source": [
        "Vamos fazer um recorte do banco selecionando apenas as variáveis quantitativas"
      ]
    },
    {
      "cell_type": "code",
      "metadata": {
        "id": "h7xKxX0Emb_Q",
        "colab_type": "code",
        "colab": {}
      },
      "source": [
        "df_pca = df_sem_outliers[['price', 'minimum_nights', 'number_of_reviews',\n",
        "    'calculated_host_listings_count', 'availability_365']]\n"
      ],
      "execution_count": 0,
      "outputs": []
    },
    {
      "cell_type": "markdown",
      "metadata": {
        "id": "0NAxbQrensc6",
        "colab_type": "text"
      },
      "source": [
        "Um passo importante é a padronização dos dados, uma vez que os dados estão em \n",
        "escalas diferentes e se nao fosse aplicada a padronização seria necessário \n",
        "obter as componentes principais a partir da matriz de correlações e \n",
        "não a partir da matriz de variância e covariâncias"
      ]
    },
    {
      "cell_type": "code",
      "metadata": {
        "id": "ZONqV_LWldGc",
        "colab_type": "code",
        "colab": {}
      },
      "source": [
        "df_pca2 = scale(df_pca)"
      ],
      "execution_count": 0,
      "outputs": []
    },
    {
      "cell_type": "markdown",
      "metadata": {
        "id": "qTQbuo1nnu7A",
        "colab_type": "text"
      },
      "source": [
        "Nesse passo seleciona-se as duas primeiras componentes principais, as que agregam maior variabilidade"
      ]
    },
    {
      "cell_type": "code",
      "metadata": {
        "id": "-Id5gwUpaQrb",
        "colab_type": "code",
        "colab": {}
      },
      "source": [
        "pca = PCA(n_components=2)"
      ],
      "execution_count": 0,
      "outputs": []
    },
    {
      "cell_type": "markdown",
      "metadata": {
        "id": "VpukmcKcnzKp",
        "colab_type": "text"
      },
      "source": [
        "Finalmente a obtenção das componentes"
      ]
    },
    {
      "cell_type": "code",
      "metadata": {
        "id": "3iviMEUnnITA",
        "colab_type": "code",
        "colab": {}
      },
      "source": [
        "principalComponents = pca.fit_transform(df_pca2)"
      ],
      "execution_count": 0,
      "outputs": []
    },
    {
      "cell_type": "markdown",
      "metadata": {
        "id": "pjpXv0-Sn4bZ",
        "colab_type": "text"
      },
      "source": [
        "Nessa etapa após as componentes terem sido extraídas\n",
        "avaliação qual o percentual de variância explicada por cada componente principal. Isto é, o quanto da variabilidade dos dados pode ser explicado por cada componente.\n",
        "\n",
        "É quase como uma medida de qualidade do ajuste."
      ]
    },
    {
      "cell_type": "code",
      "metadata": {
        "id": "zx6LzYfVnKvQ",
        "colab_type": "code",
        "colab": {
          "base_uri": "https://localhost:8080/",
          "height": 34
        },
        "outputId": "cf80041b-3a95-48a6-91df-52091656a8ca"
      },
      "source": [
        "eigenValues = pca.explained_variance_ratio_\n",
        "eigenValues\n"
      ],
      "execution_count": 18,
      "outputs": [
        {
          "output_type": "execute_result",
          "data": {
            "text/plain": [
              "array([0.25415911, 0.21611264])"
            ]
          },
          "metadata": {
            "tags": []
          },
          "execution_count": 18
        }
      ]
    },
    {
      "cell_type": "markdown",
      "metadata": {
        "id": "CT7zwBIxng2f",
        "colab_type": "text"
      },
      "source": [
        "Observe que a primeira componente principal possui 25,41% de variância explicada e a segunda componente principal 21,61% de variância explicada."
      ]
    },
    {
      "cell_type": "markdown",
      "metadata": {
        "id": "fowf_RhJoCb8",
        "colab_type": "text"
      },
      "source": [
        "Vamos analisar agora as cargas fatoriais para entender por quais variáveis índice será bem definido."
      ]
    },
    {
      "cell_type": "code",
      "metadata": {
        "id": "EjgMg0PGnmjY",
        "colab_type": "code",
        "colab": {}
      },
      "source": [
        "loadings = pca.components_.T * np.sqrt(pca.explained_variance_)"
      ],
      "execution_count": 0,
      "outputs": []
    },
    {
      "cell_type": "code",
      "metadata": {
        "id": "dd98kptooJZg",
        "colab_type": "code",
        "colab": {
          "base_uri": "https://localhost:8080/",
          "height": 204
        },
        "outputId": "fa99218e-5c3d-4883-baea-83e514180764"
      },
      "source": [
        "loading_matrix = pd.DataFrame(loadings, columns=['PC1','PC2'], index=df_pca.columns)\n",
        "loading_matrix"
      ],
      "execution_count": 20,
      "outputs": [
        {
          "output_type": "execute_result",
          "data": {
            "text/html": [
              "<div>\n",
              "<style scoped>\n",
              "    .dataframe tbody tr th:only-of-type {\n",
              "        vertical-align: middle;\n",
              "    }\n",
              "\n",
              "    .dataframe tbody tr th {\n",
              "        vertical-align: top;\n",
              "    }\n",
              "\n",
              "    .dataframe thead th {\n",
              "        text-align: right;\n",
              "    }\n",
              "</style>\n",
              "<table border=\"1\" class=\"dataframe\">\n",
              "  <thead>\n",
              "    <tr style=\"text-align: right;\">\n",
              "      <th></th>\n",
              "      <th>PC1</th>\n",
              "      <th>PC2</th>\n",
              "    </tr>\n",
              "  </thead>\n",
              "  <tbody>\n",
              "    <tr>\n",
              "      <th>price</th>\n",
              "      <td>-0.732675</td>\n",
              "      <td>0.149572</td>\n",
              "    </tr>\n",
              "    <tr>\n",
              "      <th>minimum_nights</th>\n",
              "      <td>-0.577608</td>\n",
              "      <td>-0.121418</td>\n",
              "    </tr>\n",
              "    <tr>\n",
              "      <th>number_of_reviews</th>\n",
              "      <td>0.605323</td>\n",
              "      <td>-0.037898</td>\n",
              "    </tr>\n",
              "    <tr>\n",
              "      <th>calculated_host_listings_count</th>\n",
              "      <td>-0.068924</td>\n",
              "      <td>0.766604</td>\n",
              "    </tr>\n",
              "    <tr>\n",
              "      <th>availability_365</th>\n",
              "      <td>0.170952</td>\n",
              "      <td>0.674066</td>\n",
              "    </tr>\n",
              "  </tbody>\n",
              "</table>\n",
              "</div>"
            ],
            "text/plain": [
              "                                     PC1       PC2\n",
              "price                          -0.732675  0.149572\n",
              "minimum_nights                 -0.577608 -0.121418\n",
              "number_of_reviews               0.605323 -0.037898\n",
              "calculated_host_listings_count -0.068924  0.766604\n",
              "availability_365                0.170952  0.674066"
            ]
          },
          "metadata": {
            "tags": []
          },
          "execution_count": 20
        }
      ]
    },
    {
      "cell_type": "markdown",
      "metadata": {
        "id": "Vq5TKA3r1vGW",
        "colab_type": "text"
      },
      "source": [
        "Observando a saíde acima podemos analiar a correlação entre a variável original e a componente principal. A variável *preço* e o primeiro componente principal PC1 têm uma correlação de $-0,73$, a variável *mínimo de noites* possui uma correlação de $-0,57$ e a variável *número de avaliações* uma correlação de $0,60$. Essas são as variáveis que melhor definem a primeira componente principal.\n",
        "\n",
        "Na segunda componente principal, a variável *quantidade de imóveis disponíveis pelo anfitrião* e *disponibilidade ao longo do ano* possuem uma correlação de $0,76$ e $0,67$ com a segunda componente principal, respectivamente."
      ]
    },
    {
      "cell_type": "markdown",
      "metadata": {
        "id": "y-FMTL4woMMI",
        "colab_type": "text"
      },
      "source": [
        "# Conclusão\n",
        "\n",
        "É interessante perceber como a primeira componente principal está bem definida pelo preço e pelo mínimo de estadias com cargas fatoriais negativas e pelo número de avaliações de forma positiva.\n",
        "\n",
        "O sinal das cargas fatorias não tem uma implicação qualitativa na interpretação, de forma que as acomodações com valores negativos nessa componente principal seriam aquelas mais caras e com maior quantidade mínima de noites.\n",
        "As acomodações com valores positivos seriam aquelas com maior número de avaliações.\n",
        "\n",
        "Logo, para escolher uma acomodação mais barata, que tenha menor quantidade de dias mínimos para estadias e com mais avaliações, deve-se priorizar os imóveis com valor positivo na primeira componente principal.\n",
        "\n",
        "Essa componente principal também endossa as análises encontradas na seção de análise de correlações no notebook [Analisando dados do Airbnb](https://bit.ly/3d2iWrh) onde vimos que as variáveis número de avaliações e avaliações mensais são negativamente correlacionadas com a variável preço. Isso se deve ao fato de a técnica multivariada de análise de componentes principais estar relacionada a decomposição da matriz de variância e covariâncias.\n",
        "\n",
        "A segunda componente principal está bem definida pela disponibilidade ao longo do ano e pelo número de imóveis que os afitriões são proprietários. Isso indica que acomodações com valores altos na segunda componente principal são aquelas com maior disponibilidade e cujos anfitriões colocam mais imóveis a disposição.\n",
        "\n"
      ]
    }
  ]
}